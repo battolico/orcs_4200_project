{
 "cells": [
  {
   "cell_type": "code",
   "execution_count": 264,
   "metadata": {},
   "outputs": [],
   "source": [
    "import pandas as pd\n",
    "import numpy as np\n",
    "import matplotlib.pyplot as plt\n",
    "import random\n",
    "from statsmodels.tools.tools import add_constant\n",
    "\n",
    "# Sklearn\n",
    "from sklearn.impute import KNNImputer\n",
    "from sklearn.model_selection import train_test_split\n",
    "\n",
    "# Helper Functions\n",
    "from function import date_time_convertion, list_to_cols"
   ]
  },
  {
   "cell_type": "code",
   "execution_count": 265,
   "metadata": {},
   "outputs": [
    {
     "name": "stdout",
     "output_type": "stream",
     "text": [
      "./\n"
     ]
    }
   ],
   "source": [
    "DIR = \"KuaiRec 2.0/\"\n",
    "\n",
    "rootpath=\"./\"\n",
    "print(rootpath)"
   ]
  },
  {
   "cell_type": "code",
   "execution_count": 266,
   "metadata": {},
   "outputs": [
    {
     "name": "stdout",
     "output_type": "stream",
     "text": [
      "Loading small matrix...\n",
      "Loading social network...\n",
      "Loading item features...\n",
      "Loading user features...\n",
      "Loading items' daily features...\n",
      "Loading video category...\n",
      "All data loaded.\n"
     ]
    }
   ],
   "source": [
    "# print(\"Loading big matrix...\")\n",
    "# big_matrix = pd.read_csv(rootpath + \"data/big_matrix.csv\")\n",
    "print(\"Loading small matrix...\")\n",
    "small_matrix = pd.read_csv(rootpath + \"data/small_matrix.csv\")\n",
    "\n",
    "print(\"Loading social network...\")\n",
    "social_network = pd.read_csv(rootpath + \"data/social_network.csv\")\n",
    "social_network[\"friend_list\"] = social_network[\"friend_list\"].map(eval)\n",
    "\n",
    "print(\"Loading item features...\")\n",
    "item_categories = pd.read_csv(rootpath + \"data/item_categories.csv\")\n",
    "item_categories[\"feat\"] = item_categories[\"feat\"].map(eval)\n",
    "\n",
    "print(\"Loading user features...\")\n",
    "user_features = pd.read_csv(\"data/user_features.csv\")\n",
    "\n",
    "print(\"Loading items' daily features...\")\n",
    "item_daily_features = pd.read_csv(\"data/item_daily_features.csv\")\n",
    "\n",
    "print(\"Loading video category...\")\n",
    "video_categories = pd.read_csv(\"data/kuairec_caption_category.csv\",\n",
    "                               engine=\"python\",\n",
    "                               usecols=[\"video_id\",\n",
    "                                        \"first_level_category_id\",\n",
    "                                        \"second_level_category_id\",\n",
    "                                        \"third_level_category_id\"]\n",
    "                              )\n",
    "user_features = pd.read_csv(\"data/user_features.csv\", usecols=[0] + list(range(13, 31)))\n",
    "\n",
    "print(\"All data loaded.\")"
   ]
  },
  {
   "cell_type": "markdown",
   "metadata": {},
   "source": [
    "## Data Exploration"
   ]
  },
  {
   "cell_type": "markdown",
   "metadata": {},
   "source": [
    "Since we are mainly work with small_matrix our explorations are going to focus on that dataset."
   ]
  },
  {
   "cell_type": "code",
   "execution_count": 267,
   "metadata": {},
   "outputs": [
    {
     "data": {
      "text/html": [
       "<div>\n",
       "<style scoped>\n",
       "    .dataframe tbody tr th:only-of-type {\n",
       "        vertical-align: middle;\n",
       "    }\n",
       "\n",
       "    .dataframe tbody tr th {\n",
       "        vertical-align: top;\n",
       "    }\n",
       "\n",
       "    .dataframe thead th {\n",
       "        text-align: right;\n",
       "    }\n",
       "</style>\n",
       "<table border=\"1\" class=\"dataframe\">\n",
       "  <thead>\n",
       "    <tr style=\"text-align: right;\">\n",
       "      <th></th>\n",
       "      <th>user_id</th>\n",
       "      <th>video_id</th>\n",
       "      <th>play_duration</th>\n",
       "      <th>video_duration</th>\n",
       "      <th>time</th>\n",
       "      <th>date</th>\n",
       "      <th>timestamp</th>\n",
       "      <th>watch_ratio</th>\n",
       "    </tr>\n",
       "  </thead>\n",
       "  <tbody>\n",
       "    <tr>\n",
       "      <th>0</th>\n",
       "      <td>14</td>\n",
       "      <td>148</td>\n",
       "      <td>4381</td>\n",
       "      <td>6067</td>\n",
       "      <td>2020-07-05 05:27:48.378</td>\n",
       "      <td>20200705.0</td>\n",
       "      <td>1.593898e+09</td>\n",
       "      <td>0.722103</td>\n",
       "    </tr>\n",
       "    <tr>\n",
       "      <th>1</th>\n",
       "      <td>14</td>\n",
       "      <td>183</td>\n",
       "      <td>11635</td>\n",
       "      <td>6100</td>\n",
       "      <td>2020-07-05 05:28:00.057</td>\n",
       "      <td>20200705.0</td>\n",
       "      <td>1.593898e+09</td>\n",
       "      <td>1.907377</td>\n",
       "    </tr>\n",
       "    <tr>\n",
       "      <th>2</th>\n",
       "      <td>14</td>\n",
       "      <td>3649</td>\n",
       "      <td>22422</td>\n",
       "      <td>10867</td>\n",
       "      <td>2020-07-05 05:29:09.479</td>\n",
       "      <td>20200705.0</td>\n",
       "      <td>1.593898e+09</td>\n",
       "      <td>2.063311</td>\n",
       "    </tr>\n",
       "    <tr>\n",
       "      <th>3</th>\n",
       "      <td>14</td>\n",
       "      <td>5262</td>\n",
       "      <td>4479</td>\n",
       "      <td>7908</td>\n",
       "      <td>2020-07-05 05:30:43.285</td>\n",
       "      <td>20200705.0</td>\n",
       "      <td>1.593898e+09</td>\n",
       "      <td>0.566388</td>\n",
       "    </tr>\n",
       "    <tr>\n",
       "      <th>4</th>\n",
       "      <td>14</td>\n",
       "      <td>8234</td>\n",
       "      <td>4602</td>\n",
       "      <td>11000</td>\n",
       "      <td>2020-07-05 05:35:43.459</td>\n",
       "      <td>20200705.0</td>\n",
       "      <td>1.593899e+09</td>\n",
       "      <td>0.418364</td>\n",
       "    </tr>\n",
       "  </tbody>\n",
       "</table>\n",
       "</div>"
      ],
      "text/plain": [
       "   user_id  video_id  play_duration  video_duration                     time  \\\n",
       "0       14       148           4381            6067  2020-07-05 05:27:48.378   \n",
       "1       14       183          11635            6100  2020-07-05 05:28:00.057   \n",
       "2       14      3649          22422           10867  2020-07-05 05:29:09.479   \n",
       "3       14      5262           4479            7908  2020-07-05 05:30:43.285   \n",
       "4       14      8234           4602           11000  2020-07-05 05:35:43.459   \n",
       "\n",
       "         date     timestamp  watch_ratio  \n",
       "0  20200705.0  1.593898e+09     0.722103  \n",
       "1  20200705.0  1.593898e+09     1.907377  \n",
       "2  20200705.0  1.593898e+09     2.063311  \n",
       "3  20200705.0  1.593898e+09     0.566388  \n",
       "4  20200705.0  1.593899e+09     0.418364  "
      ]
     },
     "execution_count": 267,
     "metadata": {},
     "output_type": "execute_result"
    }
   ],
   "source": [
    "small_matrix.head()"
   ]
  },
  {
   "cell_type": "code",
   "execution_count": 268,
   "metadata": {},
   "outputs": [
    {
     "name": "stdout",
     "output_type": "stream",
     "text": [
      "Small Matrix shape: (4676570, 8)\n",
      "There are 181992 rows with NaNs\n"
     ]
    }
   ],
   "source": [
    "# sum([True for idx, row in small_matrix.iterrows() if any(row.isnull())])\n",
    "print(f\"Small Matrix shape: {small_matrix.shape}\")\n",
    "rows_wnans = small_matrix.shape[0] - small_matrix.dropna().shape[0]\n",
    "print(f\"There are {rows_wnans} rows with NaNs\")"
   ]
  },
  {
   "cell_type": "markdown",
   "metadata": {},
   "source": [
    "Since there are 181991 rows that have NaNs we will impute them in order not to lose valuable data. We could the compare how our results differe if we were to only drop these rows or impute them."
   ]
  },
  {
   "cell_type": "code",
   "execution_count": 269,
   "metadata": {},
   "outputs": [
    {
     "data": {
      "text/html": [
       "<div>\n",
       "<style scoped>\n",
       "    .dataframe tbody tr th:only-of-type {\n",
       "        vertical-align: middle;\n",
       "    }\n",
       "\n",
       "    .dataframe tbody tr th {\n",
       "        vertical-align: top;\n",
       "    }\n",
       "\n",
       "    .dataframe thead th {\n",
       "        text-align: right;\n",
       "    }\n",
       "</style>\n",
       "<table border=\"1\" class=\"dataframe\">\n",
       "  <thead>\n",
       "    <tr style=\"text-align: right;\">\n",
       "      <th></th>\n",
       "      <th>video_id</th>\n",
       "      <th>first_level_category_id</th>\n",
       "      <th>second_level_category_id</th>\n",
       "      <th>third_level_category_id</th>\n",
       "    </tr>\n",
       "  </thead>\n",
       "  <tbody>\n",
       "    <tr>\n",
       "      <th>0</th>\n",
       "      <td>0</td>\n",
       "      <td>8.0</td>\n",
       "      <td>673.0</td>\n",
       "      <td>-124.0</td>\n",
       "    </tr>\n",
       "    <tr>\n",
       "      <th>1</th>\n",
       "      <td>1</td>\n",
       "      <td>27.0</td>\n",
       "      <td>-124.0</td>\n",
       "      <td>-124.0</td>\n",
       "    </tr>\n",
       "    <tr>\n",
       "      <th>2</th>\n",
       "      <td>2</td>\n",
       "      <td>9.0</td>\n",
       "      <td>727.0</td>\n",
       "      <td>-124.0</td>\n",
       "    </tr>\n",
       "    <tr>\n",
       "      <th>3</th>\n",
       "      <td>3</td>\n",
       "      <td>26.0</td>\n",
       "      <td>686.0</td>\n",
       "      <td>2434.0</td>\n",
       "    </tr>\n",
       "    <tr>\n",
       "      <th>4</th>\n",
       "      <td>4</td>\n",
       "      <td>5.0</td>\n",
       "      <td>737.0</td>\n",
       "      <td>2596.0</td>\n",
       "    </tr>\n",
       "  </tbody>\n",
       "</table>\n",
       "</div>"
      ],
      "text/plain": [
       "  video_id  first_level_category_id  second_level_category_id  \\\n",
       "0        0                      8.0                     673.0   \n",
       "1        1                     27.0                    -124.0   \n",
       "2        2                      9.0                     727.0   \n",
       "3        3                     26.0                     686.0   \n",
       "4        4                      5.0                     737.0   \n",
       "\n",
       "   third_level_category_id  \n",
       "0                   -124.0  \n",
       "1                   -124.0  \n",
       "2                   -124.0  \n",
       "3                   2434.0  \n",
       "4                   2596.0  "
      ]
     },
     "execution_count": 269,
     "metadata": {},
     "output_type": "execute_result"
    }
   ],
   "source": [
    "video_categories.head()"
   ]
  },
  {
   "cell_type": "code",
   "execution_count": 270,
   "metadata": {},
   "outputs": [
    {
     "name": "stdout",
     "output_type": "stream",
     "text": [
      "<class 'pandas.core.frame.DataFrame'>\n",
      "RangeIndex: 10732 entries, 0 to 10731\n",
      "Data columns (total 4 columns):\n",
      " #   Column                    Non-Null Count  Dtype  \n",
      "---  ------                    --------------  -----  \n",
      " 0   video_id                  10731 non-null  object \n",
      " 1   first_level_category_id   10728 non-null  float64\n",
      " 2   second_level_category_id  10728 non-null  float64\n",
      " 3   third_level_category_id   10724 non-null  float64\n",
      "dtypes: float64(3), object(1)\n",
      "memory usage: 335.5+ KB\n"
     ]
    }
   ],
   "source": [
    "video_categories.info()"
   ]
  },
  {
   "cell_type": "code",
   "execution_count": 271,
   "metadata": {},
   "outputs": [
    {
     "name": "stdout",
     "output_type": "stream",
     "text": [
      "10731\n"
     ]
    }
   ],
   "source": [
    "print(len(video_categories[\"video_id\"].unique()))"
   ]
  },
  {
   "cell_type": "code",
   "execution_count": 272,
   "metadata": {},
   "outputs": [
    {
     "name": "stdout",
     "output_type": "stream",
     "text": [
      "<class 'pandas.core.frame.DataFrame'>\n",
      "RangeIndex: 7176 entries, 0 to 7175\n",
      "Data columns (total 19 columns):\n",
      " #   Column         Non-Null Count  Dtype  \n",
      "---  ------         --------------  -----  \n",
      " 0   user_id        7176 non-null   int64  \n",
      " 1   onehot_feat0   7176 non-null   int64  \n",
      " 2   onehot_feat1   7176 non-null   int64  \n",
      " 3   onehot_feat2   7176 non-null   int64  \n",
      " 4   onehot_feat3   7176 non-null   int64  \n",
      " 5   onehot_feat4   6975 non-null   float64\n",
      " 6   onehot_feat5   7176 non-null   int64  \n",
      " 7   onehot_feat6   7176 non-null   int64  \n",
      " 8   onehot_feat7   7176 non-null   int64  \n",
      " 9   onehot_feat8   7176 non-null   int64  \n",
      " 10  onehot_feat9   7176 non-null   int64  \n",
      " 11  onehot_feat10  7176 non-null   int64  \n",
      " 12  onehot_feat11  7176 non-null   int64  \n",
      " 13  onehot_feat12  7099 non-null   float64\n",
      " 14  onehot_feat13  7101 non-null   float64\n",
      " 15  onehot_feat14  7101 non-null   float64\n",
      " 16  onehot_feat15  7102 non-null   float64\n",
      " 17  onehot_feat16  7102 non-null   float64\n",
      " 18  onehot_feat17  7102 non-null   float64\n",
      "dtypes: float64(7), int64(12)\n",
      "memory usage: 1.0 MB\n"
     ]
    }
   ],
   "source": [
    "user_features.info()"
   ]
  },
  {
   "cell_type": "code",
   "execution_count": 273,
   "metadata": {},
   "outputs": [
    {
     "data": {
      "text/plain": [
       "user_id            0\n",
       "onehot_feat0       0\n",
       "onehot_feat1       0\n",
       "onehot_feat2       0\n",
       "onehot_feat3       0\n",
       "onehot_feat4     201\n",
       "onehot_feat5       0\n",
       "onehot_feat6       0\n",
       "onehot_feat7       0\n",
       "onehot_feat8       0\n",
       "onehot_feat9       0\n",
       "onehot_feat10      0\n",
       "onehot_feat11      0\n",
       "onehot_feat12     77\n",
       "onehot_feat13     75\n",
       "onehot_feat14     75\n",
       "onehot_feat15     74\n",
       "onehot_feat16     74\n",
       "onehot_feat17     74\n",
       "dtype: int64"
      ]
     },
     "execution_count": 273,
     "metadata": {},
     "output_type": "execute_result"
    }
   ],
   "source": [
    "user_features.isna().sum()"
   ]
  },
  {
   "cell_type": "code",
   "execution_count": 274,
   "metadata": {},
   "outputs": [],
   "source": [
    "user_features.drop(['onehot_feat4', 'onehot_feat12',\n",
    "                    'onehot_feat13', 'onehot_feat14',\n",
    "                   'onehot_feat15', 'onehot_feat16', 'onehot_feat17'], axis=1, inplace=True)"
   ]
  },
  {
   "cell_type": "code",
   "execution_count": 275,
   "metadata": {},
   "outputs": [
    {
     "data": {
      "text/plain": [
       "user_id          0\n",
       "onehot_feat0     0\n",
       "onehot_feat1     0\n",
       "onehot_feat2     0\n",
       "onehot_feat3     0\n",
       "onehot_feat5     0\n",
       "onehot_feat6     0\n",
       "onehot_feat7     0\n",
       "onehot_feat8     0\n",
       "onehot_feat9     0\n",
       "onehot_feat10    0\n",
       "onehot_feat11    0\n",
       "dtype: int64"
      ]
     },
     "execution_count": 275,
     "metadata": {},
     "output_type": "execute_result"
    }
   ],
   "source": [
    "user_features.isna().sum()"
   ]
  },
  {
   "cell_type": "markdown",
   "metadata": {},
   "source": [
    "## Data Preparation"
   ]
  },
  {
   "cell_type": "markdown",
   "metadata": {},
   "source": [
    "#### Convert Date time to integers"
   ]
  },
  {
   "cell_type": "code",
   "execution_count": 276,
   "metadata": {},
   "outputs": [],
   "source": [
    "import pandas as pd\n",
    "import numpy as np\n",
    "import datetime as dt\n",
    "\n",
    "def date_time_convertion(col):\n",
    "    col = pd.to_datetime(col)\n",
    "    min_col = col.min()\n",
    "    for idx, value in enumerate(col):\n",
    "        new_val = (value - min_col).total_seconds()\n",
    "        col.iloc[idx] = new_val\n",
    "    return col\n",
    "\n",
    "small_matrix[\"time\"] = date_time_convertion(small_matrix[\"time\"])"
   ]
  },
  {
   "cell_type": "markdown",
   "metadata": {},
   "source": [
    "#### Process NaN"
   ]
  },
  {
   "cell_type": "code",
   "execution_count": 277,
   "metadata": {},
   "outputs": [],
   "source": [
    "# Keep only rows with numeric \"video_id\"\n",
    "video_categories = video_categories[video_categories[\"video_id\"].astype(str).str.isnumeric()]"
   ]
  },
  {
   "cell_type": "code",
   "execution_count": 278,
   "metadata": {},
   "outputs": [],
   "source": [
    "video_categories.loc[:, \"video_id\"] = video_categories[\"video_id\"].astype(int)"
   ]
  },
  {
   "cell_type": "code",
   "execution_count": 279,
   "metadata": {},
   "outputs": [
    {
     "name": "stdout",
     "output_type": "stream",
     "text": [
      "10728\n"
     ]
    }
   ],
   "source": [
    "print(len(video_categories[\"video_id\"].unique()))"
   ]
  },
  {
   "cell_type": "code",
   "execution_count": 280,
   "metadata": {},
   "outputs": [
    {
     "data": {
      "text/plain": [
       "video_id                    0\n",
       "first_level_category_id     4\n",
       "second_level_category_id    4\n",
       "third_level_category_id     4\n",
       "dtype: int64"
      ]
     },
     "execution_count": 280,
     "metadata": {},
     "output_type": "execute_result"
    }
   ],
   "source": [
    "video_categories.isna().sum()"
   ]
  },
  {
   "cell_type": "code",
   "execution_count": 281,
   "metadata": {},
   "outputs": [
    {
     "data": {
      "text/plain": [
       "array([-124.,    1.,    2.,    3.,    4.,    5.,    6.,    7.,    8.,\n",
       "          9.,   10.,   11.,   12.,   13.,   14.,   15.,   16.,   17.,\n",
       "         18.,   19.,   20.,   21.,   22.,   23.,   24.,   25.,   26.,\n",
       "         27.,   28.,   29.,   31.,   32.,   33.,   34.,   35.,   36.,\n",
       "         37.,   38.,   39.,   nan])"
      ]
     },
     "execution_count": 281,
     "metadata": {},
     "output_type": "execute_result"
    }
   ],
   "source": [
    "np.sort(video_categories[\"first_level_category_id\"].unique())"
   ]
  },
  {
   "cell_type": "code",
   "execution_count": 282,
   "metadata": {},
   "outputs": [],
   "source": [
    "# Replace NaN values with -124 (unknown)\n",
    "video_categories.loc[:, [\"first_level_category_id\", \"second_level_category_id\", \"third_level_category_id\"]] = \\\n",
    "    video_categories[[\"first_level_category_id\", \"second_level_category_id\", \"third_level_category_id\"]].fillna(-124)"
   ]
  },
  {
   "cell_type": "code",
   "execution_count": 283,
   "metadata": {},
   "outputs": [
    {
     "data": {
      "text/plain": [
       "video_id                    0\n",
       "first_level_category_id     0\n",
       "second_level_category_id    0\n",
       "third_level_category_id     0\n",
       "dtype: int64"
      ]
     },
     "execution_count": 283,
     "metadata": {},
     "output_type": "execute_result"
    }
   ],
   "source": [
    "video_categories.isna().sum()"
   ]
  },
  {
   "cell_type": "code",
   "execution_count": 284,
   "metadata": {},
   "outputs": [
    {
     "name": "stdout",
     "output_type": "stream",
     "text": [
      "<class 'pandas.core.frame.DataFrame'>\n",
      "Index: 10728 entries, 0 to 10731\n",
      "Data columns (total 4 columns):\n",
      " #   Column                    Non-Null Count  Dtype  \n",
      "---  ------                    --------------  -----  \n",
      " 0   video_id                  10728 non-null  object \n",
      " 1   first_level_category_id   10728 non-null  float64\n",
      " 2   second_level_category_id  10728 non-null  float64\n",
      " 3   third_level_category_id   10728 non-null  float64\n",
      "dtypes: float64(3), object(1)\n",
      "memory usage: 419.1+ KB\n"
     ]
    }
   ],
   "source": [
    "video_categories.info()"
   ]
  },
  {
   "cell_type": "markdown",
   "metadata": {},
   "source": [
    "#### Merge Datasets"
   ]
  },
  {
   "cell_type": "code",
   "execution_count": 285,
   "metadata": {},
   "outputs": [],
   "source": [
    "# merged_df = pd.merge(small_matrix, item_categories, on=\"video_id\", how=\"left\")\n",
    "# print(merged_df.shape)\n",
    "\n",
    "# # merged_df = pd.merge(small_matrix, item_categories, on=\"video_id\", how=\"inner\")\n",
    "# # print(merged_df.shape) \n",
    "# # This to ensure that every video_id in small_matrix is also in item_categories\n",
    "\n",
    "# merged_df = pd.merge(merged_df, social_network, on=\"user_id\", how=\"left\")\n",
    "# print(merged_df.shape)\n",
    "\n",
    "# # merged_df = pd.merge(small_matrix, social_network, on=\"user_id\", how=\"inner\")\n",
    "# # print(merged_df.shape) \n"
   ]
  },
  {
   "cell_type": "code",
   "execution_count": 286,
   "metadata": {},
   "outputs": [
    {
     "data": {
      "text/html": [
       "<div>\n",
       "<style scoped>\n",
       "    .dataframe tbody tr th:only-of-type {\n",
       "        vertical-align: middle;\n",
       "    }\n",
       "\n",
       "    .dataframe tbody tr th {\n",
       "        vertical-align: top;\n",
       "    }\n",
       "\n",
       "    .dataframe thead th {\n",
       "        text-align: right;\n",
       "    }\n",
       "</style>\n",
       "<table border=\"1\" class=\"dataframe\">\n",
       "  <thead>\n",
       "    <tr style=\"text-align: right;\">\n",
       "      <th></th>\n",
       "      <th>user_id</th>\n",
       "      <th>video_id</th>\n",
       "      <th>play_duration</th>\n",
       "      <th>video_duration</th>\n",
       "      <th>time</th>\n",
       "      <th>date</th>\n",
       "      <th>timestamp</th>\n",
       "      <th>watch_ratio</th>\n",
       "      <th>feat</th>\n",
       "      <th>first_level_category_id</th>\n",
       "      <th>second_level_category_id</th>\n",
       "      <th>third_level_category_id</th>\n",
       "    </tr>\n",
       "  </thead>\n",
       "  <tbody>\n",
       "    <tr>\n",
       "      <th>0</th>\n",
       "      <td>14</td>\n",
       "      <td>148</td>\n",
       "      <td>4381</td>\n",
       "      <td>6067</td>\n",
       "      <td>97462.318</td>\n",
       "      <td>20200705.0</td>\n",
       "      <td>1.593898e+09</td>\n",
       "      <td>0.722103</td>\n",
       "      <td>[11, 28, 19]</td>\n",
       "      <td>19.0</td>\n",
       "      <td>744.0</td>\n",
       "      <td>2636.0</td>\n",
       "    </tr>\n",
       "    <tr>\n",
       "      <th>1</th>\n",
       "      <td>14</td>\n",
       "      <td>183</td>\n",
       "      <td>11635</td>\n",
       "      <td>6100</td>\n",
       "      <td>97473.997</td>\n",
       "      <td>20200705.0</td>\n",
       "      <td>1.593898e+09</td>\n",
       "      <td>1.907377</td>\n",
       "      <td>[28]</td>\n",
       "      <td>28.0</td>\n",
       "      <td>223.0</td>\n",
       "      <td>-124.0</td>\n",
       "    </tr>\n",
       "    <tr>\n",
       "      <th>2</th>\n",
       "      <td>14</td>\n",
       "      <td>3649</td>\n",
       "      <td>22422</td>\n",
       "      <td>10867</td>\n",
       "      <td>97543.419</td>\n",
       "      <td>20200705.0</td>\n",
       "      <td>1.593898e+09</td>\n",
       "      <td>2.063311</td>\n",
       "      <td>[9]</td>\n",
       "      <td>28.0</td>\n",
       "      <td>223.0</td>\n",
       "      <td>1830.0</td>\n",
       "    </tr>\n",
       "    <tr>\n",
       "      <th>3</th>\n",
       "      <td>14</td>\n",
       "      <td>5262</td>\n",
       "      <td>4479</td>\n",
       "      <td>7908</td>\n",
       "      <td>97637.225</td>\n",
       "      <td>20200705.0</td>\n",
       "      <td>1.593898e+09</td>\n",
       "      <td>0.566388</td>\n",
       "      <td>[25]</td>\n",
       "      <td>5.0</td>\n",
       "      <td>735.0</td>\n",
       "      <td>-124.0</td>\n",
       "    </tr>\n",
       "    <tr>\n",
       "      <th>4</th>\n",
       "      <td>14</td>\n",
       "      <td>8234</td>\n",
       "      <td>4602</td>\n",
       "      <td>11000</td>\n",
       "      <td>97937.399</td>\n",
       "      <td>20200705.0</td>\n",
       "      <td>1.593899e+09</td>\n",
       "      <td>0.418364</td>\n",
       "      <td>[6]</td>\n",
       "      <td>6.0</td>\n",
       "      <td>667.0</td>\n",
       "      <td>2375.0</td>\n",
       "    </tr>\n",
       "  </tbody>\n",
       "</table>\n",
       "</div>"
      ],
      "text/plain": [
       "   user_id video_id  play_duration  video_duration       time        date  \\\n",
       "0       14      148           4381            6067  97462.318  20200705.0   \n",
       "1       14      183          11635            6100  97473.997  20200705.0   \n",
       "2       14     3649          22422           10867  97543.419  20200705.0   \n",
       "3       14     5262           4479            7908  97637.225  20200705.0   \n",
       "4       14     8234           4602           11000  97937.399  20200705.0   \n",
       "\n",
       "      timestamp  watch_ratio          feat  first_level_category_id  \\\n",
       "0  1.593898e+09     0.722103  [11, 28, 19]                     19.0   \n",
       "1  1.593898e+09     1.907377          [28]                     28.0   \n",
       "2  1.593898e+09     2.063311           [9]                     28.0   \n",
       "3  1.593898e+09     0.566388          [25]                      5.0   \n",
       "4  1.593899e+09     0.418364           [6]                      6.0   \n",
       "\n",
       "   second_level_category_id  third_level_category_id  \n",
       "0                     744.0                   2636.0  \n",
       "1                     223.0                   -124.0  \n",
       "2                     223.0                   1830.0  \n",
       "3                     735.0                   -124.0  \n",
       "4                     667.0                   2375.0  "
      ]
     },
     "metadata": {},
     "output_type": "display_data"
    }
   ],
   "source": [
    "small_matrix_merged = (\n",
    "    small_matrix\n",
    "    .merge(item_categories, on=\"video_id\", how=\"left\")\n",
    "    .merge(video_categories[[\"video_id\", \"first_level_category_id\", \"second_level_category_id\", \"third_level_category_id\"]], on = \"video_id\", how = \"left\")\n",
    "    # .merge(social_network, on=\"user_id\", how=\"left\")\n",
    ")\n",
    "display(small_matrix_merged.head())"
   ]
  },
  {
   "cell_type": "code",
   "execution_count": 287,
   "metadata": {},
   "outputs": [
    {
     "data": {
      "text/plain": [
       "user_id                          0\n",
       "video_id                         0\n",
       "play_duration                    0\n",
       "video_duration                   0\n",
       "time                        181992\n",
       "date                        181992\n",
       "timestamp                   181992\n",
       "watch_ratio                      0\n",
       "feat                             0\n",
       "first_level_category_id          0\n",
       "second_level_category_id         0\n",
       "third_level_category_id          0\n",
       "dtype: int64"
      ]
     },
     "execution_count": 287,
     "metadata": {},
     "output_type": "execute_result"
    }
   ],
   "source": [
    "small_matrix_merged.isna().sum()"
   ]
  },
  {
   "cell_type": "code",
   "execution_count": 288,
   "metadata": {},
   "outputs": [],
   "source": [
    "small_matrix_merged = list_to_cols(small_matrix_merged, \"feat\")"
   ]
  },
  {
   "cell_type": "markdown",
   "metadata": {},
   "source": [
    "#### Data Imputation"
   ]
  },
  {
   "cell_type": "code",
   "execution_count": 289,
   "metadata": {},
   "outputs": [
    {
     "data": {
      "text/html": [
       "<div>\n",
       "<style scoped>\n",
       "    .dataframe tbody tr th:only-of-type {\n",
       "        vertical-align: middle;\n",
       "    }\n",
       "\n",
       "    .dataframe tbody tr th {\n",
       "        vertical-align: top;\n",
       "    }\n",
       "\n",
       "    .dataframe thead th {\n",
       "        text-align: right;\n",
       "    }\n",
       "</style>\n",
       "<table border=\"1\" class=\"dataframe\">\n",
       "  <thead>\n",
       "    <tr style=\"text-align: right;\">\n",
       "      <th></th>\n",
       "      <th>user_id</th>\n",
       "      <th>video_id</th>\n",
       "      <th>play_duration</th>\n",
       "      <th>video_duration</th>\n",
       "      <th>time</th>\n",
       "      <th>date</th>\n",
       "      <th>timestamp</th>\n",
       "      <th>watch_ratio</th>\n",
       "      <th>first_level_category_id</th>\n",
       "      <th>second_level_category_id</th>\n",
       "      <th>third_level_category_id</th>\n",
       "      <th>feat_1</th>\n",
       "      <th>feat_2</th>\n",
       "      <th>feat_3</th>\n",
       "      <th>feat_4</th>\n",
       "    </tr>\n",
       "  </thead>\n",
       "  <tbody>\n",
       "    <tr>\n",
       "      <th>0</th>\n",
       "      <td>14</td>\n",
       "      <td>148</td>\n",
       "      <td>4381</td>\n",
       "      <td>6067</td>\n",
       "      <td>97462.318</td>\n",
       "      <td>20200705.0</td>\n",
       "      <td>1.593898e+09</td>\n",
       "      <td>0.722103</td>\n",
       "      <td>19.0</td>\n",
       "      <td>744.0</td>\n",
       "      <td>2636.0</td>\n",
       "      <td>11</td>\n",
       "      <td>28.0</td>\n",
       "      <td>19.0</td>\n",
       "      <td>0.0</td>\n",
       "    </tr>\n",
       "    <tr>\n",
       "      <th>1</th>\n",
       "      <td>14</td>\n",
       "      <td>183</td>\n",
       "      <td>11635</td>\n",
       "      <td>6100</td>\n",
       "      <td>97473.997</td>\n",
       "      <td>20200705.0</td>\n",
       "      <td>1.593898e+09</td>\n",
       "      <td>1.907377</td>\n",
       "      <td>28.0</td>\n",
       "      <td>223.0</td>\n",
       "      <td>-124.0</td>\n",
       "      <td>28</td>\n",
       "      <td>0.0</td>\n",
       "      <td>0.0</td>\n",
       "      <td>0.0</td>\n",
       "    </tr>\n",
       "    <tr>\n",
       "      <th>2</th>\n",
       "      <td>14</td>\n",
       "      <td>3649</td>\n",
       "      <td>22422</td>\n",
       "      <td>10867</td>\n",
       "      <td>97543.419</td>\n",
       "      <td>20200705.0</td>\n",
       "      <td>1.593898e+09</td>\n",
       "      <td>2.063311</td>\n",
       "      <td>28.0</td>\n",
       "      <td>223.0</td>\n",
       "      <td>1830.0</td>\n",
       "      <td>9</td>\n",
       "      <td>0.0</td>\n",
       "      <td>0.0</td>\n",
       "      <td>0.0</td>\n",
       "    </tr>\n",
       "    <tr>\n",
       "      <th>3</th>\n",
       "      <td>14</td>\n",
       "      <td>5262</td>\n",
       "      <td>4479</td>\n",
       "      <td>7908</td>\n",
       "      <td>97637.225</td>\n",
       "      <td>20200705.0</td>\n",
       "      <td>1.593898e+09</td>\n",
       "      <td>0.566388</td>\n",
       "      <td>5.0</td>\n",
       "      <td>735.0</td>\n",
       "      <td>-124.0</td>\n",
       "      <td>25</td>\n",
       "      <td>0.0</td>\n",
       "      <td>0.0</td>\n",
       "      <td>0.0</td>\n",
       "    </tr>\n",
       "    <tr>\n",
       "      <th>4</th>\n",
       "      <td>14</td>\n",
       "      <td>8234</td>\n",
       "      <td>4602</td>\n",
       "      <td>11000</td>\n",
       "      <td>97937.399</td>\n",
       "      <td>20200705.0</td>\n",
       "      <td>1.593899e+09</td>\n",
       "      <td>0.418364</td>\n",
       "      <td>6.0</td>\n",
       "      <td>667.0</td>\n",
       "      <td>2375.0</td>\n",
       "      <td>6</td>\n",
       "      <td>0.0</td>\n",
       "      <td>0.0</td>\n",
       "      <td>0.0</td>\n",
       "    </tr>\n",
       "    <tr>\n",
       "      <th>...</th>\n",
       "      <td>...</td>\n",
       "      <td>...</td>\n",
       "      <td>...</td>\n",
       "      <td>...</td>\n",
       "      <td>...</td>\n",
       "      <td>...</td>\n",
       "      <td>...</td>\n",
       "      <td>...</td>\n",
       "      <td>...</td>\n",
       "      <td>...</td>\n",
       "      <td>...</td>\n",
       "      <td>...</td>\n",
       "      <td>...</td>\n",
       "      <td>...</td>\n",
       "      <td>...</td>\n",
       "    </tr>\n",
       "    <tr>\n",
       "      <th>4676565</th>\n",
       "      <td>7162</td>\n",
       "      <td>2267</td>\n",
       "      <td>11908</td>\n",
       "      <td>5467</td>\n",
       "      <td>2423337.210</td>\n",
       "      <td>20200801.0</td>\n",
       "      <td>1.596224e+09</td>\n",
       "      <td>2.178160</td>\n",
       "      <td>25.0</td>\n",
       "      <td>235.0</td>\n",
       "      <td>1272.0</td>\n",
       "      <td>25</td>\n",
       "      <td>0.0</td>\n",
       "      <td>0.0</td>\n",
       "      <td>0.0</td>\n",
       "    </tr>\n",
       "    <tr>\n",
       "      <th>4676566</th>\n",
       "      <td>7162</td>\n",
       "      <td>2065</td>\n",
       "      <td>11919</td>\n",
       "      <td>6067</td>\n",
       "      <td>2423337.210</td>\n",
       "      <td>20200801.0</td>\n",
       "      <td>1.596224e+09</td>\n",
       "      <td>1.964562</td>\n",
       "      <td>29.0</td>\n",
       "      <td>689.0</td>\n",
       "      <td>2455.0</td>\n",
       "      <td>9</td>\n",
       "      <td>17.0</td>\n",
       "      <td>0.0</td>\n",
       "      <td>0.0</td>\n",
       "    </tr>\n",
       "    <tr>\n",
       "      <th>4676567</th>\n",
       "      <td>7162</td>\n",
       "      <td>1296</td>\n",
       "      <td>16690</td>\n",
       "      <td>19870</td>\n",
       "      <td>2423337.210</td>\n",
       "      <td>20200801.0</td>\n",
       "      <td>1.596224e+09</td>\n",
       "      <td>0.839960</td>\n",
       "      <td>1.0</td>\n",
       "      <td>722.0</td>\n",
       "      <td>2544.0</td>\n",
       "      <td>1</td>\n",
       "      <td>5.0</td>\n",
       "      <td>0.0</td>\n",
       "      <td>0.0</td>\n",
       "    </tr>\n",
       "    <tr>\n",
       "      <th>4676568</th>\n",
       "      <td>7162</td>\n",
       "      <td>4822</td>\n",
       "      <td>11862</td>\n",
       "      <td>24400</td>\n",
       "      <td>2423337.210</td>\n",
       "      <td>20200801.0</td>\n",
       "      <td>1.596224e+09</td>\n",
       "      <td>0.486148</td>\n",
       "      <td>9.0</td>\n",
       "      <td>136.0</td>\n",
       "      <td>-124.0</td>\n",
       "      <td>9</td>\n",
       "      <td>0.0</td>\n",
       "      <td>0.0</td>\n",
       "      <td>0.0</td>\n",
       "    </tr>\n",
       "    <tr>\n",
       "      <th>4676569</th>\n",
       "      <td>7162</td>\n",
       "      <td>4364</td>\n",
       "      <td>2182</td>\n",
       "      <td>19367</td>\n",
       "      <td>2423337.210</td>\n",
       "      <td>20200801.0</td>\n",
       "      <td>1.596224e+09</td>\n",
       "      <td>0.112666</td>\n",
       "      <td>25.0</td>\n",
       "      <td>235.0</td>\n",
       "      <td>-124.0</td>\n",
       "      <td>25</td>\n",
       "      <td>1.0</td>\n",
       "      <td>0.0</td>\n",
       "      <td>0.0</td>\n",
       "    </tr>\n",
       "  </tbody>\n",
       "</table>\n",
       "<p>4676570 rows × 15 columns</p>\n",
       "</div>"
      ],
      "text/plain": [
       "         user_id  video_id  play_duration  video_duration         time  \\\n",
       "0             14       148           4381            6067    97462.318   \n",
       "1             14       183          11635            6100    97473.997   \n",
       "2             14      3649          22422           10867    97543.419   \n",
       "3             14      5262           4479            7908    97637.225   \n",
       "4             14      8234           4602           11000    97937.399   \n",
       "...          ...       ...            ...             ...          ...   \n",
       "4676565     7162      2267          11908            5467  2423337.210   \n",
       "4676566     7162      2065          11919            6067  2423337.210   \n",
       "4676567     7162      1296          16690           19870  2423337.210   \n",
       "4676568     7162      4822          11862           24400  2423337.210   \n",
       "4676569     7162      4364           2182           19367  2423337.210   \n",
       "\n",
       "               date     timestamp  watch_ratio  first_level_category_id  \\\n",
       "0        20200705.0  1.593898e+09     0.722103                     19.0   \n",
       "1        20200705.0  1.593898e+09     1.907377                     28.0   \n",
       "2        20200705.0  1.593898e+09     2.063311                     28.0   \n",
       "3        20200705.0  1.593898e+09     0.566388                      5.0   \n",
       "4        20200705.0  1.593899e+09     0.418364                      6.0   \n",
       "...             ...           ...          ...                      ...   \n",
       "4676565  20200801.0  1.596224e+09     2.178160                     25.0   \n",
       "4676566  20200801.0  1.596224e+09     1.964562                     29.0   \n",
       "4676567  20200801.0  1.596224e+09     0.839960                      1.0   \n",
       "4676568  20200801.0  1.596224e+09     0.486148                      9.0   \n",
       "4676569  20200801.0  1.596224e+09     0.112666                     25.0   \n",
       "\n",
       "         second_level_category_id  third_level_category_id  feat_1  feat_2  \\\n",
       "0                           744.0                   2636.0      11    28.0   \n",
       "1                           223.0                   -124.0      28     0.0   \n",
       "2                           223.0                   1830.0       9     0.0   \n",
       "3                           735.0                   -124.0      25     0.0   \n",
       "4                           667.0                   2375.0       6     0.0   \n",
       "...                           ...                      ...     ...     ...   \n",
       "4676565                     235.0                   1272.0      25     0.0   \n",
       "4676566                     689.0                   2455.0       9    17.0   \n",
       "4676567                     722.0                   2544.0       1     5.0   \n",
       "4676568                     136.0                   -124.0       9     0.0   \n",
       "4676569                     235.0                   -124.0      25     1.0   \n",
       "\n",
       "         feat_3  feat_4  \n",
       "0          19.0     0.0  \n",
       "1           0.0     0.0  \n",
       "2           0.0     0.0  \n",
       "3           0.0     0.0  \n",
       "4           0.0     0.0  \n",
       "...         ...     ...  \n",
       "4676565     0.0     0.0  \n",
       "4676566     0.0     0.0  \n",
       "4676567     0.0     0.0  \n",
       "4676568     0.0     0.0  \n",
       "4676569     0.0     0.0  \n",
       "\n",
       "[4676570 rows x 15 columns]"
      ]
     },
     "metadata": {},
     "output_type": "display_data"
    }
   ],
   "source": [
    "# KNN Imputation\n",
    "# imputer = KNNImputer(n_neighbors=20)\n",
    "# df_filled = imputer.fit_transform(small_matrix)\n",
    "\n",
    "# Median/Mean/Mode Imputation\n",
    "for col in small_matrix_merged.columns:\n",
    "    small_matrix_merged[col] = small_matrix_merged[col].fillna(small_matrix_merged[col].median()) # median() or mode()[0]\n",
    "display(small_matrix_merged)    "
   ]
  },
  {
   "cell_type": "markdown",
   "metadata": {},
   "source": [
    "#### Data transformation"
   ]
  },
  {
   "cell_type": "code",
   "execution_count": 290,
   "metadata": {},
   "outputs": [],
   "source": [
    "small_transformed_df = small_matrix_merged.pivot_table(index='user_id', \n",
    "                                           columns='first_level_category_id', \n",
    "                                           values='watch_ratio', \n",
    "                                           aggfunc='sum')  "
   ]
  },
  {
   "cell_type": "code",
   "execution_count": 291,
   "metadata": {},
   "outputs": [
    {
     "data": {
      "text/html": [
       "<div>\n",
       "<style scoped>\n",
       "    .dataframe tbody tr th:only-of-type {\n",
       "        vertical-align: middle;\n",
       "    }\n",
       "\n",
       "    .dataframe tbody tr th {\n",
       "        vertical-align: top;\n",
       "    }\n",
       "\n",
       "    .dataframe thead th {\n",
       "        text-align: right;\n",
       "    }\n",
       "</style>\n",
       "<table border=\"1\" class=\"dataframe\">\n",
       "  <thead>\n",
       "    <tr style=\"text-align: right;\">\n",
       "      <th>first_level_category_id</th>\n",
       "      <th>-124.0</th>\n",
       "      <th>1.0</th>\n",
       "      <th>2.0</th>\n",
       "      <th>3.0</th>\n",
       "      <th>4.0</th>\n",
       "      <th>5.0</th>\n",
       "      <th>6.0</th>\n",
       "      <th>7.0</th>\n",
       "      <th>8.0</th>\n",
       "      <th>9.0</th>\n",
       "      <th>...</th>\n",
       "      <th>29.0</th>\n",
       "      <th>31.0</th>\n",
       "      <th>32.0</th>\n",
       "      <th>33.0</th>\n",
       "      <th>34.0</th>\n",
       "      <th>35.0</th>\n",
       "      <th>36.0</th>\n",
       "      <th>37.0</th>\n",
       "      <th>38.0</th>\n",
       "      <th>39.0</th>\n",
       "    </tr>\n",
       "    <tr>\n",
       "      <th>user_id</th>\n",
       "      <th></th>\n",
       "      <th></th>\n",
       "      <th></th>\n",
       "      <th></th>\n",
       "      <th></th>\n",
       "      <th></th>\n",
       "      <th></th>\n",
       "      <th></th>\n",
       "      <th></th>\n",
       "      <th></th>\n",
       "      <th></th>\n",
       "      <th></th>\n",
       "      <th></th>\n",
       "      <th></th>\n",
       "      <th></th>\n",
       "      <th></th>\n",
       "      <th></th>\n",
       "      <th></th>\n",
       "      <th></th>\n",
       "      <th></th>\n",
       "      <th></th>\n",
       "    </tr>\n",
       "  </thead>\n",
       "  <tbody>\n",
       "    <tr>\n",
       "      <th>14</th>\n",
       "      <td>4.286082</td>\n",
       "      <td>143.114573</td>\n",
       "      <td>18.780785</td>\n",
       "      <td>3.990782</td>\n",
       "      <td>23.204983</td>\n",
       "      <td>127.466564</td>\n",
       "      <td>226.189900</td>\n",
       "      <td>154.046108</td>\n",
       "      <td>274.076947</td>\n",
       "      <td>104.960823</td>\n",
       "      <td>...</td>\n",
       "      <td>29.057355</td>\n",
       "      <td>53.299769</td>\n",
       "      <td>28.284356</td>\n",
       "      <td>86.550536</td>\n",
       "      <td>189.378020</td>\n",
       "      <td>34.154832</td>\n",
       "      <td>5.654891</td>\n",
       "      <td>10.072252</td>\n",
       "      <td>2.747260</td>\n",
       "      <td>16.204715</td>\n",
       "    </tr>\n",
       "    <tr>\n",
       "      <th>19</th>\n",
       "      <td>2.181404</td>\n",
       "      <td>114.764137</td>\n",
       "      <td>15.067363</td>\n",
       "      <td>4.878045</td>\n",
       "      <td>26.105601</td>\n",
       "      <td>110.512886</td>\n",
       "      <td>184.396166</td>\n",
       "      <td>125.246851</td>\n",
       "      <td>260.217647</td>\n",
       "      <td>91.961913</td>\n",
       "      <td>...</td>\n",
       "      <td>25.413421</td>\n",
       "      <td>46.104619</td>\n",
       "      <td>25.111988</td>\n",
       "      <td>78.931972</td>\n",
       "      <td>143.146660</td>\n",
       "      <td>34.819603</td>\n",
       "      <td>5.125674</td>\n",
       "      <td>7.942315</td>\n",
       "      <td>1.003059</td>\n",
       "      <td>6.220014</td>\n",
       "    </tr>\n",
       "    <tr>\n",
       "      <th>21</th>\n",
       "      <td>2.926339</td>\n",
       "      <td>124.110059</td>\n",
       "      <td>23.230539</td>\n",
       "      <td>5.624282</td>\n",
       "      <td>27.482122</td>\n",
       "      <td>130.194884</td>\n",
       "      <td>240.155861</td>\n",
       "      <td>142.008902</td>\n",
       "      <td>289.964595</td>\n",
       "      <td>93.602000</td>\n",
       "      <td>...</td>\n",
       "      <td>25.204688</td>\n",
       "      <td>49.205301</td>\n",
       "      <td>24.432978</td>\n",
       "      <td>84.570179</td>\n",
       "      <td>155.033386</td>\n",
       "      <td>33.616927</td>\n",
       "      <td>6.429626</td>\n",
       "      <td>10.021961</td>\n",
       "      <td>1.276294</td>\n",
       "      <td>6.761944</td>\n",
       "    </tr>\n",
       "    <tr>\n",
       "      <th>23</th>\n",
       "      <td>3.981672</td>\n",
       "      <td>107.067355</td>\n",
       "      <td>26.635610</td>\n",
       "      <td>6.181167</td>\n",
       "      <td>20.649301</td>\n",
       "      <td>131.889982</td>\n",
       "      <td>191.524655</td>\n",
       "      <td>154.143455</td>\n",
       "      <td>317.001194</td>\n",
       "      <td>124.566335</td>\n",
       "      <td>...</td>\n",
       "      <td>31.547009</td>\n",
       "      <td>41.461490</td>\n",
       "      <td>28.913310</td>\n",
       "      <td>95.215205</td>\n",
       "      <td>150.692951</td>\n",
       "      <td>53.090773</td>\n",
       "      <td>5.192854</td>\n",
       "      <td>11.549175</td>\n",
       "      <td>1.235337</td>\n",
       "      <td>5.550794</td>\n",
       "    </tr>\n",
       "    <tr>\n",
       "      <th>24</th>\n",
       "      <td>2.684146</td>\n",
       "      <td>89.313163</td>\n",
       "      <td>13.462446</td>\n",
       "      <td>5.342142</td>\n",
       "      <td>26.527966</td>\n",
       "      <td>132.614202</td>\n",
       "      <td>178.508812</td>\n",
       "      <td>113.466052</td>\n",
       "      <td>323.619663</td>\n",
       "      <td>91.335295</td>\n",
       "      <td>...</td>\n",
       "      <td>18.917689</td>\n",
       "      <td>47.151678</td>\n",
       "      <td>23.701717</td>\n",
       "      <td>76.580128</td>\n",
       "      <td>136.945069</td>\n",
       "      <td>28.144926</td>\n",
       "      <td>4.843280</td>\n",
       "      <td>12.512766</td>\n",
       "      <td>1.326224</td>\n",
       "      <td>8.001600</td>\n",
       "    </tr>\n",
       "  </tbody>\n",
       "</table>\n",
       "<p>5 rows × 38 columns</p>\n",
       "</div>"
      ],
      "text/plain": [
       "first_level_category_id    -124.0       1.0        2.0       3.0        4.0    \\\n",
       "user_id                                                                         \n",
       "14                       4.286082  143.114573  18.780785  3.990782  23.204983   \n",
       "19                       2.181404  114.764137  15.067363  4.878045  26.105601   \n",
       "21                       2.926339  124.110059  23.230539  5.624282  27.482122   \n",
       "23                       3.981672  107.067355  26.635610  6.181167  20.649301   \n",
       "24                       2.684146   89.313163  13.462446  5.342142  26.527966   \n",
       "\n",
       "first_level_category_id       5.0         6.0         7.0         8.0    \\\n",
       "user_id                                                                   \n",
       "14                       127.466564  226.189900  154.046108  274.076947   \n",
       "19                       110.512886  184.396166  125.246851  260.217647   \n",
       "21                       130.194884  240.155861  142.008902  289.964595   \n",
       "23                       131.889982  191.524655  154.143455  317.001194   \n",
       "24                       132.614202  178.508812  113.466052  323.619663   \n",
       "\n",
       "first_level_category_id       9.0    ...      29.0       31.0       32.0   \\\n",
       "user_id                              ...                                    \n",
       "14                       104.960823  ...  29.057355  53.299769  28.284356   \n",
       "19                        91.961913  ...  25.413421  46.104619  25.111988   \n",
       "21                        93.602000  ...  25.204688  49.205301  24.432978   \n",
       "23                       124.566335  ...  31.547009  41.461490  28.913310   \n",
       "24                        91.335295  ...  18.917689  47.151678  23.701717   \n",
       "\n",
       "first_level_category_id      33.0        34.0       35.0      36.0   \\\n",
       "user_id                                                               \n",
       "14                       86.550536  189.378020  34.154832  5.654891   \n",
       "19                       78.931972  143.146660  34.819603  5.125674   \n",
       "21                       84.570179  155.033386  33.616927  6.429626   \n",
       "23                       95.215205  150.692951  53.090773  5.192854   \n",
       "24                       76.580128  136.945069  28.144926  4.843280   \n",
       "\n",
       "first_level_category_id      37.0      38.0       39.0   \n",
       "user_id                                                  \n",
       "14                       10.072252  2.747260  16.204715  \n",
       "19                        7.942315  1.003059   6.220014  \n",
       "21                       10.021961  1.276294   6.761944  \n",
       "23                       11.549175  1.235337   5.550794  \n",
       "24                       12.512766  1.326224   8.001600  \n",
       "\n",
       "[5 rows x 38 columns]"
      ]
     },
     "execution_count": 291,
     "metadata": {},
     "output_type": "execute_result"
    }
   ],
   "source": [
    "small_transformed_df.head()"
   ]
  },
  {
   "cell_type": "code",
   "execution_count": 292,
   "metadata": {},
   "outputs": [],
   "source": [
    "small_transformed_merged_df = (\n",
    "    user_features\n",
    "    .merge(small_transformed_df, on=\"user_id\", how=\"right\")\n",
    ")"
   ]
  },
  {
   "cell_type": "code",
   "execution_count": 293,
   "metadata": {},
   "outputs": [
    {
     "data": {
      "text/plain": [
       "user_id          0\n",
       "onehot_feat0     0\n",
       "onehot_feat1     0\n",
       "onehot_feat2     0\n",
       "onehot_feat3     0\n",
       "onehot_feat5     0\n",
       "onehot_feat6     0\n",
       "onehot_feat7     0\n",
       "onehot_feat8     0\n",
       "onehot_feat9     0\n",
       "onehot_feat10    0\n",
       "onehot_feat11    0\n",
       "-124.0           0\n",
       "1.0              0\n",
       "2.0              0\n",
       "3.0              0\n",
       "4.0              0\n",
       "5.0              0\n",
       "6.0              0\n",
       "7.0              0\n",
       "8.0              0\n",
       "9.0              0\n",
       "10.0             0\n",
       "11.0             0\n",
       "12.0             0\n",
       "13.0             0\n",
       "14.0             0\n",
       "15.0             0\n",
       "16.0             0\n",
       "17.0             0\n",
       "18.0             0\n",
       "19.0             0\n",
       "20.0             0\n",
       "21.0             0\n",
       "22.0             0\n",
       "23.0             0\n",
       "25.0             0\n",
       "26.0             0\n",
       "27.0             0\n",
       "28.0             0\n",
       "29.0             0\n",
       "31.0             0\n",
       "32.0             0\n",
       "33.0             0\n",
       "34.0             0\n",
       "35.0             0\n",
       "36.0             0\n",
       "37.0             0\n",
       "38.0             0\n",
       "39.0             0\n",
       "dtype: int64"
      ]
     },
     "execution_count": 293,
     "metadata": {},
     "output_type": "execute_result"
    }
   ],
   "source": [
    "small_transformed_merged_df.isna().sum()"
   ]
  },
  {
   "cell_type": "code",
   "execution_count": 294,
   "metadata": {},
   "outputs": [],
   "source": [
    "small_transformed_merged_df.set_index('user_id', inplace = True)"
   ]
  },
  {
   "cell_type": "code",
   "execution_count": 295,
   "metadata": {},
   "outputs": [],
   "source": [
    "small_transformed_merged_df = add_constant(small_transformed_merged_df)"
   ]
  },
  {
   "cell_type": "code",
   "execution_count": 296,
   "metadata": {},
   "outputs": [
    {
     "data": {
      "text/html": [
       "<div>\n",
       "<style scoped>\n",
       "    .dataframe tbody tr th:only-of-type {\n",
       "        vertical-align: middle;\n",
       "    }\n",
       "\n",
       "    .dataframe tbody tr th {\n",
       "        vertical-align: top;\n",
       "    }\n",
       "\n",
       "    .dataframe thead th {\n",
       "        text-align: right;\n",
       "    }\n",
       "</style>\n",
       "<table border=\"1\" class=\"dataframe\">\n",
       "  <thead>\n",
       "    <tr style=\"text-align: right;\">\n",
       "      <th></th>\n",
       "      <th>const</th>\n",
       "      <th>onehot_feat0</th>\n",
       "      <th>onehot_feat1</th>\n",
       "      <th>onehot_feat2</th>\n",
       "      <th>onehot_feat3</th>\n",
       "      <th>onehot_feat5</th>\n",
       "      <th>onehot_feat6</th>\n",
       "      <th>onehot_feat7</th>\n",
       "      <th>onehot_feat8</th>\n",
       "      <th>onehot_feat9</th>\n",
       "      <th>...</th>\n",
       "      <th>29.0</th>\n",
       "      <th>31.0</th>\n",
       "      <th>32.0</th>\n",
       "      <th>33.0</th>\n",
       "      <th>34.0</th>\n",
       "      <th>35.0</th>\n",
       "      <th>36.0</th>\n",
       "      <th>37.0</th>\n",
       "      <th>38.0</th>\n",
       "      <th>39.0</th>\n",
       "    </tr>\n",
       "    <tr>\n",
       "      <th>user_id</th>\n",
       "      <th></th>\n",
       "      <th></th>\n",
       "      <th></th>\n",
       "      <th></th>\n",
       "      <th></th>\n",
       "      <th></th>\n",
       "      <th></th>\n",
       "      <th></th>\n",
       "      <th></th>\n",
       "      <th></th>\n",
       "      <th></th>\n",
       "      <th></th>\n",
       "      <th></th>\n",
       "      <th></th>\n",
       "      <th></th>\n",
       "      <th></th>\n",
       "      <th></th>\n",
       "      <th></th>\n",
       "      <th></th>\n",
       "      <th></th>\n",
       "      <th></th>\n",
       "    </tr>\n",
       "  </thead>\n",
       "  <tbody>\n",
       "    <tr>\n",
       "      <th>14</th>\n",
       "      <td>1.0</td>\n",
       "      <td>0</td>\n",
       "      <td>5</td>\n",
       "      <td>8</td>\n",
       "      <td>417</td>\n",
       "      <td>0</td>\n",
       "      <td>1</td>\n",
       "      <td>3</td>\n",
       "      <td>297</td>\n",
       "      <td>4</td>\n",
       "      <td>...</td>\n",
       "      <td>29.057355</td>\n",
       "      <td>53.299769</td>\n",
       "      <td>28.284356</td>\n",
       "      <td>86.550536</td>\n",
       "      <td>189.378020</td>\n",
       "      <td>34.154832</td>\n",
       "      <td>5.654891</td>\n",
       "      <td>10.072252</td>\n",
       "      <td>2.747260</td>\n",
       "      <td>16.204715</td>\n",
       "    </tr>\n",
       "    <tr>\n",
       "      <th>19</th>\n",
       "      <td>1.0</td>\n",
       "      <td>0</td>\n",
       "      <td>1</td>\n",
       "      <td>18</td>\n",
       "      <td>589</td>\n",
       "      <td>0</td>\n",
       "      <td>1</td>\n",
       "      <td>7</td>\n",
       "      <td>227</td>\n",
       "      <td>3</td>\n",
       "      <td>...</td>\n",
       "      <td>25.413421</td>\n",
       "      <td>46.104619</td>\n",
       "      <td>25.111988</td>\n",
       "      <td>78.931972</td>\n",
       "      <td>143.146660</td>\n",
       "      <td>34.819603</td>\n",
       "      <td>5.125674</td>\n",
       "      <td>7.942315</td>\n",
       "      <td>1.003059</td>\n",
       "      <td>6.220014</td>\n",
       "    </tr>\n",
       "    <tr>\n",
       "      <th>21</th>\n",
       "      <td>1.0</td>\n",
       "      <td>0</td>\n",
       "      <td>4</td>\n",
       "      <td>13</td>\n",
       "      <td>568</td>\n",
       "      <td>0</td>\n",
       "      <td>0</td>\n",
       "      <td>13</td>\n",
       "      <td>292</td>\n",
       "      <td>4</td>\n",
       "      <td>...</td>\n",
       "      <td>25.204688</td>\n",
       "      <td>49.205301</td>\n",
       "      <td>24.432978</td>\n",
       "      <td>84.570179</td>\n",
       "      <td>155.033386</td>\n",
       "      <td>33.616927</td>\n",
       "      <td>6.429626</td>\n",
       "      <td>10.021961</td>\n",
       "      <td>1.276294</td>\n",
       "      <td>6.761944</td>\n",
       "    </tr>\n",
       "    <tr>\n",
       "      <th>23</th>\n",
       "      <td>1.0</td>\n",
       "      <td>0</td>\n",
       "      <td>1</td>\n",
       "      <td>3</td>\n",
       "      <td>45</td>\n",
       "      <td>0</td>\n",
       "      <td>0</td>\n",
       "      <td>13</td>\n",
       "      <td>148</td>\n",
       "      <td>6</td>\n",
       "      <td>...</td>\n",
       "      <td>31.547009</td>\n",
       "      <td>41.461490</td>\n",
       "      <td>28.913310</td>\n",
       "      <td>95.215205</td>\n",
       "      <td>150.692951</td>\n",
       "      <td>53.090773</td>\n",
       "      <td>5.192854</td>\n",
       "      <td>11.549175</td>\n",
       "      <td>1.235337</td>\n",
       "      <td>5.550794</td>\n",
       "    </tr>\n",
       "    <tr>\n",
       "      <th>24</th>\n",
       "      <td>1.0</td>\n",
       "      <td>1</td>\n",
       "      <td>4</td>\n",
       "      <td>17</td>\n",
       "      <td>634</td>\n",
       "      <td>0</td>\n",
       "      <td>1</td>\n",
       "      <td>0</td>\n",
       "      <td>64</td>\n",
       "      <td>5</td>\n",
       "      <td>...</td>\n",
       "      <td>18.917689</td>\n",
       "      <td>47.151678</td>\n",
       "      <td>23.701717</td>\n",
       "      <td>76.580128</td>\n",
       "      <td>136.945069</td>\n",
       "      <td>28.144926</td>\n",
       "      <td>4.843280</td>\n",
       "      <td>12.512766</td>\n",
       "      <td>1.326224</td>\n",
       "      <td>8.001600</td>\n",
       "    </tr>\n",
       "  </tbody>\n",
       "</table>\n",
       "<p>5 rows × 50 columns</p>\n",
       "</div>"
      ],
      "text/plain": [
       "         const  onehot_feat0  onehot_feat1  onehot_feat2  onehot_feat3  \\\n",
       "user_id                                                                  \n",
       "14         1.0             0             5             8           417   \n",
       "19         1.0             0             1            18           589   \n",
       "21         1.0             0             4            13           568   \n",
       "23         1.0             0             1             3            45   \n",
       "24         1.0             1             4            17           634   \n",
       "\n",
       "         onehot_feat5  onehot_feat6  onehot_feat7  onehot_feat8  onehot_feat9  \\\n",
       "user_id                                                                         \n",
       "14                  0             1             3           297             4   \n",
       "19                  0             1             7           227             3   \n",
       "21                  0             0            13           292             4   \n",
       "23                  0             0            13           148             6   \n",
       "24                  0             1             0            64             5   \n",
       "\n",
       "         ...       29.0       31.0       32.0       33.0        34.0  \\\n",
       "user_id  ...                                                           \n",
       "14       ...  29.057355  53.299769  28.284356  86.550536  189.378020   \n",
       "19       ...  25.413421  46.104619  25.111988  78.931972  143.146660   \n",
       "21       ...  25.204688  49.205301  24.432978  84.570179  155.033386   \n",
       "23       ...  31.547009  41.461490  28.913310  95.215205  150.692951   \n",
       "24       ...  18.917689  47.151678  23.701717  76.580128  136.945069   \n",
       "\n",
       "              35.0      36.0       37.0      38.0       39.0  \n",
       "user_id                                                       \n",
       "14       34.154832  5.654891  10.072252  2.747260  16.204715  \n",
       "19       34.819603  5.125674   7.942315  1.003059   6.220014  \n",
       "21       33.616927  6.429626  10.021961  1.276294   6.761944  \n",
       "23       53.090773  5.192854  11.549175  1.235337   5.550794  \n",
       "24       28.144926  4.843280  12.512766  1.326224   8.001600  \n",
       "\n",
       "[5 rows x 50 columns]"
      ]
     },
     "execution_count": 296,
     "metadata": {},
     "output_type": "execute_result"
    }
   ],
   "source": [
    "small_transformed_merged_df.head()"
   ]
  },
  {
   "cell_type": "markdown",
   "metadata": {},
   "source": [
    "#### Train-Test Split"
   ]
  },
  {
   "cell_type": "code",
   "execution_count": 297,
   "metadata": {},
   "outputs": [],
   "source": [
    "X = small_matrix_merged.drop(columns=[\"watch_ratio\"])\n",
    "y = small_matrix_merged[\"watch_ratio\"]"
   ]
  },
  {
   "cell_type": "code",
   "execution_count": 298,
   "metadata": {},
   "outputs": [],
   "source": [
    "X_train, X_test, y_train, y_test = train_test_split(X, y, test_size=0.18, random_state=2024, shuffle=True)"
   ]
  },
  {
   "cell_type": "code",
   "execution_count": 299,
   "metadata": {},
   "outputs": [],
   "source": [
    "X_trans = small_transformed_merged_df"
   ]
  },
  {
   "cell_type": "code",
   "execution_count": 317,
   "metadata": {},
   "outputs": [],
   "source": [
    "X_trans_train, X_trans_test = train_test_split(X_trans, test_size=0.18, random_state=2024, shuffle=True)"
   ]
  },
  {
   "cell_type": "markdown",
   "metadata": {},
   "source": [
    "### MAB - LinUCB"
   ]
  },
  {
   "cell_type": "code",
   "execution_count": 301,
   "metadata": {},
   "outputs": [
    {
     "name": "stdout",
     "output_type": "stream",
     "text": [
      "Index([        'const',  'onehot_feat0',  'onehot_feat1',  'onehot_feat2',\n",
      "        'onehot_feat3',  'onehot_feat5',  'onehot_feat6',  'onehot_feat7',\n",
      "        'onehot_feat8',  'onehot_feat9', 'onehot_feat10', 'onehot_feat11',\n",
      "                -124.0,             1.0,             2.0,             3.0,\n",
      "                   4.0,             5.0,             6.0,             7.0,\n",
      "                   8.0,             9.0,            10.0,            11.0,\n",
      "                  12.0,            13.0,            14.0,            15.0,\n",
      "                  16.0,            17.0,            18.0,            19.0,\n",
      "                  20.0,            21.0,            22.0,            23.0,\n",
      "                  25.0,            26.0,            27.0,            28.0,\n",
      "                  29.0,            31.0,            32.0,            33.0,\n",
      "                  34.0,            35.0,            36.0,            37.0,\n",
      "                  38.0,            39.0],\n",
      "      dtype='object')\n"
     ]
    }
   ],
   "source": [
    "print(X_trans_train.columns)"
   ]
  },
  {
   "cell_type": "code",
   "execution_count": 302,
   "metadata": {},
   "outputs": [
    {
     "name": "stdout",
     "output_type": "stream",
     "text": [
      "Number of arms: 38\n",
      "[-124.    1.    2.    3.    4.    5.    6.    7.    8.    9.   10.   11.\n",
      "   12.   13.   14.   15.   16.   17.   18.   19.   20.   21.   22.   23.\n",
      "   25.   26.   27.   28.   29.   31.   32.   33.   34.   35.   36.   37.\n",
      "   38.   39.]\n"
     ]
    }
   ],
   "source": [
    "arm_ids = small_matrix_merged[\"first_level_category_id\"].unique()\n",
    "print(\"Number of arms:\", len(arm_ids))\n",
    "print(np.sort(arm_ids))"
   ]
  },
  {
   "cell_type": "code",
   "execution_count": 303,
   "metadata": {},
   "outputs": [
    {
     "name": "stdout",
     "output_type": "stream",
     "text": [
      "Number of context features: 11\n"
     ]
    }
   ],
   "source": [
    "print(\"Number of context features:\", user_features.shape[1]-1)"
   ]
  },
  {
   "cell_type": "code",
   "execution_count": 332,
   "metadata": {},
   "outputs": [],
   "source": [
    "class Linear_Bandit:\n",
    "    def __init__(self, arms, features):\n",
    "        self.K = arms \n",
    "        self.D = features\n",
    "        self.params = np.random.rand(self.K, self.D+1)\n",
    "    \n",
    "    def gen_contexts(self):\n",
    "        self.contexts = np.random.rand(self.K, self.D)\n",
    "        self.contexts = add_constant(self.contexts)\n",
    "        return self.contexts\n",
    "    \n",
    "    def pull_arm(self, i):\n",
    "        return np.sum(self.contexts[i]*self.params[i]) + np.random.random()\n",
    "\n",
    "    def compute_regret(self, i):\n",
    "        all_rewards = np.sum(self.contexts * self.params, axis=1)\n",
    "        return np.max(all_rewards) - all_rewards[i]\n",
    "\n",
    "def compute_ucb(x, A, b, alpha):\n",
    "    UCB = []\n",
    "    for i in range(len(b)):\n",
    "        Ainv = np.linalg.inv(A[i])\n",
    "        Rhat = x @ Ainv @ b[i]\n",
    "        Uhat = alpha * np.sqrt(x.T @ Ainv @ x)\n",
    "        UCB.append(Rhat + Uhat)\n",
    "    return np.array(UCB)\n",
    "\n",
    "def linucb(alpha, trials, X, A = None, b = None, num_arm = 38, num_features = 11):\n",
    "    K = num_arm\n",
    "    D = num_features # -1?? Also with or without \"watch_ratio\"\n",
    "    if A == None:\n",
    "        A = [np.eye(D+1) for i in range(K)]\n",
    "    if b == None:\n",
    "        b = [np.zeros(D+1) for i in range(K)]\n",
    "    regret = np.zeros(trials)\n",
    "    values_of_idx = []\n",
    "    \n",
    "    for i in range(trials):\n",
    "        # Get Data\n",
    "        user = X.sample(n=1).values.flatten()\n",
    "        x = user[:D+1]\n",
    "        rewards = user[D+1:]\n",
    "        \n",
    "        # Pull Arm\n",
    "        UCB = compute_ucb(x, A, b, alpha)\n",
    "        idx = np.argmax(UCB)\n",
    "        reward = rewards[idx]\n",
    "\n",
    "        # Update A and b\n",
    "        A[idx] += np.outer(x, x)\n",
    "        b[idx] += reward * x\n",
    "\n",
    "        # Compute Regret\n",
    "        regret[i] = np.max(rewards) - reward\n",
    "    return A, b, regret\n",
    "\n",
    "def linucb_test(alpha, X, A = None, b = None, num_arm = 38, num_features = 11):\n",
    "    K = num_arm\n",
    "    D = num_features # -1?? Also with or without \"watch_ratio\"\n",
    "    if A == None:\n",
    "        A = [np.eye(D+1) for i in range(K)]\n",
    "    if b == None:\n",
    "        b = [np.zeros(D+1) for i in range(K)]\n",
    "    regret = np.zeros(X.shape[0])\n",
    "    values_of_idx = []\n",
    "    \n",
    "    i = 0\n",
    "    for index, user in X.iterrows():\n",
    "        # Get Data\n",
    "        user = user.values.flatten()\n",
    "        x = user[:D+1]\n",
    "        rewards = user[D+1:]\n",
    "        \n",
    "        # Pull Arm\n",
    "        UCB = compute_ucb(x, A, b, alpha)\n",
    "        idx = np.argmax(UCB)\n",
    "        reward = rewards[idx]\n",
    "\n",
    "        # Update A and b\n",
    "        #A[idx] += np.outer(x, x)\n",
    "        #b[idx] += reward * x\n",
    "\n",
    "        # Compute Regret\n",
    "        regret[i] = np.max(rewards) - reward\n",
    "        i += 1\n",
    "    return A, b, regret"
   ]
  },
  {
   "cell_type": "code",
   "execution_count": 310,
   "metadata": {},
   "outputs": [
    {
     "name": "stdout",
     "output_type": "stream",
     "text": [
      "(1157, 50)\n"
     ]
    }
   ],
   "source": [
    "print(X_trans_train.shape)"
   ]
  },
  {
   "cell_type": "code",
   "execution_count": 318,
   "metadata": {},
   "outputs": [
    {
     "data": {
      "image/png": "[encoded data removed]",
      "text/plain": [
       "<Figure size 640x480 with 1 Axes>"
      ]
     },
     "metadata": {},
     "output_type": "display_data"
    }
   ],
   "source": [
    "trials, sims, alpha = 1200, 50, 1\n",
    "avg_regret = np.zeros(trials)\n",
    "\n",
    "for m in range(sims):\n",
    "    A_train, b_train, regret = linucb(alpha, trials, X_trans_train, num_arm = 38, num_features = 11)\n",
    "    avg_regret += regret \n",
    "avg_regret /= sims\n",
    "\n",
    "plt.plot(np.cumsum(avg_regret))\n",
    "plt.show()"
   ]
  },
  {
   "cell_type": "code",
   "execution_count": 333,
   "metadata": {},
   "outputs": [],
   "source": [
    "A_test, b_test, regret_test = linucb_test(alpha, X_trans_test,\n",
    "                                      A = A_train, b = b_train,\n",
    "                                      num_arm = 38, num_features = 11)"
   ]
  },
  {
   "cell_type": "code",
   "execution_count": 334,
   "metadata": {},
   "outputs": [
    {
     "data": {
      "text/plain": [
       "[<matplotlib.lines.Line2D at 0x1c6d27b10>]"
      ]
     },
     "execution_count": 334,
     "metadata": {},
     "output_type": "execute_result"
    },
    {
     "data": {
      "image/png": "[encoded data removed]",
      "text/plain": [
       "<Figure size 640x480 with 1 Axes>"
      ]
     },
     "metadata": {},
     "output_type": "display_data"
    }
   ],
   "source": [
    "plt.plot(regret_test)"
   ]
  }
 ],
 "metadata": {
  "kernelspec": {
   "display_name": "Python 3 (ipykernel)",
   "language": "python",
   "name": "python3"
  },
  "language_info": {
   "codemirror_mode": {
    "name": "ipython",
    "version": 3
   },
   "file_extension": ".py",
   "mimetype": "text/x-python",
   "name": "python",
   "nbconvert_exporter": "python",
   "pygments_lexer": "ipython3",
   "version": "3.11.5"
  }
 },
 "nbformat": 4,
 "nbformat_minor": 2
}
