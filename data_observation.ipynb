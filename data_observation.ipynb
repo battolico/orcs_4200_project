{
 "cells": [
  {
   "cell_type": "code",
   "execution_count": 1,
   "metadata": {},
   "outputs": [],
   "source": [
    "import pandas as pd\n",
    "import numpy as np\n",
    "import matplotlib.pyplot as plt\n",
    "\n",
    "# Imputer\n",
    "from sklearn.impute import KNNImputer\n",
    "\n",
    "# Helper Functions\n",
    "from function import date_time_convertion, list_to_cols"
   ]
  },
  {
   "cell_type": "code",
   "execution_count": 2,
   "metadata": {},
   "outputs": [
    {
     "name": "stdout",
     "output_type": "stream",
     "text": [
      "./\n"
     ]
    }
   ],
   "source": [
    "DIR = \"KuaiRec 2.0/\"\n",
    "\n",
    "rootpath=\"./\"\n",
    "print(rootpath)"
   ]
  },
  {
   "cell_type": "code",
   "execution_count": 3,
   "metadata": {},
   "outputs": [
    {
     "name": "stdout",
     "output_type": "stream",
     "text": [
      "Loading small matrix...\n",
      "Loading social network...\n",
      "Loading item features...\n",
      "Loading user features...\n",
      "Loading items' daily features...\n",
      "All data loaded.\n"
     ]
    }
   ],
   "source": [
    "# print(\"Loading big matrix...\")\n",
    "# big_matrix = pd.read_csv(rootpath + \"data/big_matrix.csv\")\n",
    "print(\"Loading small matrix...\")\n",
    "small_matrix = pd.read_csv(rootpath + \"data/small_matrix.csv\")\n",
    "\n",
    "print(\"Loading social network...\")\n",
    "social_network = pd.read_csv(rootpath + \"data/social_network.csv\")\n",
    "social_network[\"friend_list\"] = social_network[\"friend_list\"].map(eval)\n",
    "\n",
    "print(\"Loading item features...\")\n",
    "item_categories = pd.read_csv(rootpath + \"data/item_categories.csv\")\n",
    "item_categories[\"feat\"] = item_categories[\"feat\"].map(eval)\n",
    "\n",
    "print(\"Loading user features...\")\n",
    "user_features = pd.read_csv(\"data/user_features.csv\")\n",
    "\n",
    "print(\"Loading items' daily features...\")\n",
    "item_daily_features = pd.read_csv(\"data/item_daily_features.csv\")\n",
    "\n",
    "print(\"All data loaded.\")"
   ]
  },
  {
   "cell_type": "markdown",
   "metadata": {},
   "source": [
    "## Data Exploration"
   ]
  },
  {
   "cell_type": "markdown",
   "metadata": {},
   "source": [
    "Since we are mainly work with small_matrix our explorations are going to focus on that dataset."
   ]
  },
  {
   "cell_type": "code",
   "execution_count": 4,
   "metadata": {},
   "outputs": [
    {
     "data": {
      "text/html": [
       "<div>\n",
       "<style scoped>\n",
       "    .dataframe tbody tr th:only-of-type {\n",
       "        vertical-align: middle;\n",
       "    }\n",
       "\n",
       "    .dataframe tbody tr th {\n",
       "        vertical-align: top;\n",
       "    }\n",
       "\n",
       "    .dataframe thead th {\n",
       "        text-align: right;\n",
       "    }\n",
       "</style>\n",
       "<table border=\"1\" class=\"dataframe\">\n",
       "  <thead>\n",
       "    <tr style=\"text-align: right;\">\n",
       "      <th></th>\n",
       "      <th>user_id</th>\n",
       "      <th>video_id</th>\n",
       "      <th>play_duration</th>\n",
       "      <th>video_duration</th>\n",
       "      <th>time</th>\n",
       "      <th>date</th>\n",
       "      <th>timestamp</th>\n",
       "      <th>watch_ratio</th>\n",
       "    </tr>\n",
       "  </thead>\n",
       "  <tbody>\n",
       "    <tr>\n",
       "      <th>0</th>\n",
       "      <td>14</td>\n",
       "      <td>148</td>\n",
       "      <td>4381</td>\n",
       "      <td>6067</td>\n",
       "      <td>2020-07-05 05:27:48.378</td>\n",
       "      <td>20200705.0</td>\n",
       "      <td>1.593898e+09</td>\n",
       "      <td>0.722103</td>\n",
       "    </tr>\n",
       "    <tr>\n",
       "      <th>1</th>\n",
       "      <td>14</td>\n",
       "      <td>183</td>\n",
       "      <td>11635</td>\n",
       "      <td>6100</td>\n",
       "      <td>2020-07-05 05:28:00.057</td>\n",
       "      <td>20200705.0</td>\n",
       "      <td>1.593898e+09</td>\n",
       "      <td>1.907377</td>\n",
       "    </tr>\n",
       "    <tr>\n",
       "      <th>2</th>\n",
       "      <td>14</td>\n",
       "      <td>3649</td>\n",
       "      <td>22422</td>\n",
       "      <td>10867</td>\n",
       "      <td>2020-07-05 05:29:09.479</td>\n",
       "      <td>20200705.0</td>\n",
       "      <td>1.593898e+09</td>\n",
       "      <td>2.063311</td>\n",
       "    </tr>\n",
       "    <tr>\n",
       "      <th>3</th>\n",
       "      <td>14</td>\n",
       "      <td>5262</td>\n",
       "      <td>4479</td>\n",
       "      <td>7908</td>\n",
       "      <td>2020-07-05 05:30:43.285</td>\n",
       "      <td>20200705.0</td>\n",
       "      <td>1.593898e+09</td>\n",
       "      <td>0.566388</td>\n",
       "    </tr>\n",
       "    <tr>\n",
       "      <th>4</th>\n",
       "      <td>14</td>\n",
       "      <td>8234</td>\n",
       "      <td>4602</td>\n",
       "      <td>11000</td>\n",
       "      <td>2020-07-05 05:35:43.459</td>\n",
       "      <td>20200705.0</td>\n",
       "      <td>1.593899e+09</td>\n",
       "      <td>0.418364</td>\n",
       "    </tr>\n",
       "  </tbody>\n",
       "</table>\n",
       "</div>"
      ],
      "text/plain": [
       "   user_id  video_id  play_duration  video_duration                     time  \\\n",
       "0       14       148           4381            6067  2020-07-05 05:27:48.378   \n",
       "1       14       183          11635            6100  2020-07-05 05:28:00.057   \n",
       "2       14      3649          22422           10867  2020-07-05 05:29:09.479   \n",
       "3       14      5262           4479            7908  2020-07-05 05:30:43.285   \n",
       "4       14      8234           4602           11000  2020-07-05 05:35:43.459   \n",
       "\n",
       "         date     timestamp  watch_ratio  \n",
       "0  20200705.0  1.593898e+09     0.722103  \n",
       "1  20200705.0  1.593898e+09     1.907377  \n",
       "2  20200705.0  1.593898e+09     2.063311  \n",
       "3  20200705.0  1.593898e+09     0.566388  \n",
       "4  20200705.0  1.593899e+09     0.418364  "
      ]
     },
     "execution_count": 4,
     "metadata": {},
     "output_type": "execute_result"
    }
   ],
   "source": [
    "small_matrix.head()"
   ]
  },
  {
   "cell_type": "code",
   "execution_count": 5,
   "metadata": {},
   "outputs": [
    {
     "name": "stdout",
     "output_type": "stream",
     "text": [
      "Small Matrix shape: (4676570, 8)\n",
      "There are 181992 rows with NaNs\n"
     ]
    }
   ],
   "source": [
    "# sum([True for idx, row in small_matrix.iterrows() if any(row.isnull())])\n",
    "print(f\"Small Matrix shape: {small_matrix.shape}\")\n",
    "rows_wnans = small_matrix.shape[0] - small_matrix.dropna().shape[0]\n",
    "print(f\"There are {rows_wnans} rows with NaNs\")"
   ]
  },
  {
   "cell_type": "markdown",
   "metadata": {},
   "source": [
    "Since there are 181991 rows that have NaNs we will impute them in order not to lose valuable data. We could the compare how our results differe if we were to only drop these rows or impute them."
   ]
  },
  {
   "cell_type": "markdown",
   "metadata": {},
   "source": [
    "## Data Preparation"
   ]
  },
  {
   "cell_type": "code",
   "execution_count": 6,
   "metadata": {},
   "outputs": [
    {
     "name": "stderr",
     "output_type": "stream",
     "text": [
      "/var/folders/0f/xqjk7pr56mjd12xvy1w435_40000gn/T/ipykernel_6018/1452114024.py:10: FutureWarning: Setting an item of incompatible dtype is deprecated and will raise an error in a future version of pandas. Value '97462.318' has dtype incompatible with datetime64[ns], please explicitly cast to a compatible dtype first.\n",
      "  col.iloc[idx] = new_val\n"
     ]
    }
   ],
   "source": [
    "import pandas as pd\n",
    "import numpy as np\n",
    "import datetime as dt\n",
    "\n",
    "def date_time_convertion(col):\n",
    "    col = pd.to_datetime(col)\n",
    "    min_col = col.min()\n",
    "    for idx, value in enumerate(col):\n",
    "        new_val = (value - min_col).total_seconds()\n",
    "        col.iloc[idx] = new_val\n",
    "    return col\n",
    "\n",
    "small_matrix[\"time\"] = date_time_convertion(small_matrix[\"time\"])"
   ]
  },
  {
   "cell_type": "code",
   "execution_count": 7,
   "metadata": {},
   "outputs": [],
   "source": [
    "# merged_df = pd.merge(small_matrix, item_categories, on=\"video_id\", how=\"left\")\n",
    "# print(merged_df.shape)\n",
    "\n",
    "# # merged_df = pd.merge(small_matrix, item_categories, on=\"video_id\", how=\"inner\")\n",
    "# # print(merged_df.shape) \n",
    "# # This to ensure that every video_id in small_matrix is also in item_categories\n",
    "\n",
    "# merged_df = pd.merge(merged_df, social_network, on=\"user_id\", how=\"left\")\n",
    "# print(merged_df.shape)\n",
    "\n",
    "# # merged_df = pd.merge(small_matrix, social_network, on=\"user_id\", how=\"inner\")\n",
    "# # print(merged_df.shape) \n"
   ]
  },
  {
   "cell_type": "code",
   "execution_count": 11,
   "metadata": {},
   "outputs": [
    {
     "data": {
      "text/html": [
       "<div>\n",
       "<style scoped>\n",
       "    .dataframe tbody tr th:only-of-type {\n",
       "        vertical-align: middle;\n",
       "    }\n",
       "\n",
       "    .dataframe tbody tr th {\n",
       "        vertical-align: top;\n",
       "    }\n",
       "\n",
       "    .dataframe thead th {\n",
       "        text-align: right;\n",
       "    }\n",
       "</style>\n",
       "<table border=\"1\" class=\"dataframe\">\n",
       "  <thead>\n",
       "    <tr style=\"text-align: right;\">\n",
       "      <th></th>\n",
       "      <th>user_id</th>\n",
       "      <th>video_id</th>\n",
       "      <th>play_duration</th>\n",
       "      <th>video_duration</th>\n",
       "      <th>time</th>\n",
       "      <th>date</th>\n",
       "      <th>timestamp</th>\n",
       "      <th>watch_ratio</th>\n",
       "      <th>feat</th>\n",
       "    </tr>\n",
       "  </thead>\n",
       "  <tbody>\n",
       "    <tr>\n",
       "      <th>0</th>\n",
       "      <td>14</td>\n",
       "      <td>148</td>\n",
       "      <td>4381</td>\n",
       "      <td>6067</td>\n",
       "      <td>97462.318</td>\n",
       "      <td>20200705.0</td>\n",
       "      <td>1.593898e+09</td>\n",
       "      <td>0.722103</td>\n",
       "      <td>[11, 28, 19]</td>\n",
       "    </tr>\n",
       "    <tr>\n",
       "      <th>1</th>\n",
       "      <td>14</td>\n",
       "      <td>183</td>\n",
       "      <td>11635</td>\n",
       "      <td>6100</td>\n",
       "      <td>97473.997</td>\n",
       "      <td>20200705.0</td>\n",
       "      <td>1.593898e+09</td>\n",
       "      <td>1.907377</td>\n",
       "      <td>[28]</td>\n",
       "    </tr>\n",
       "    <tr>\n",
       "      <th>2</th>\n",
       "      <td>14</td>\n",
       "      <td>3649</td>\n",
       "      <td>22422</td>\n",
       "      <td>10867</td>\n",
       "      <td>97543.419</td>\n",
       "      <td>20200705.0</td>\n",
       "      <td>1.593898e+09</td>\n",
       "      <td>2.063311</td>\n",
       "      <td>[9]</td>\n",
       "    </tr>\n",
       "    <tr>\n",
       "      <th>3</th>\n",
       "      <td>14</td>\n",
       "      <td>5262</td>\n",
       "      <td>4479</td>\n",
       "      <td>7908</td>\n",
       "      <td>97637.225</td>\n",
       "      <td>20200705.0</td>\n",
       "      <td>1.593898e+09</td>\n",
       "      <td>0.566388</td>\n",
       "      <td>[25]</td>\n",
       "    </tr>\n",
       "    <tr>\n",
       "      <th>4</th>\n",
       "      <td>14</td>\n",
       "      <td>8234</td>\n",
       "      <td>4602</td>\n",
       "      <td>11000</td>\n",
       "      <td>97937.399</td>\n",
       "      <td>20200705.0</td>\n",
       "      <td>1.593899e+09</td>\n",
       "      <td>0.418364</td>\n",
       "      <td>[6]</td>\n",
       "    </tr>\n",
       "  </tbody>\n",
       "</table>\n",
       "</div>"
      ],
      "text/plain": [
       "   user_id  video_id  play_duration  video_duration       time        date  \\\n",
       "0       14       148           4381            6067  97462.318  20200705.0   \n",
       "1       14       183          11635            6100  97473.997  20200705.0   \n",
       "2       14      3649          22422           10867  97543.419  20200705.0   \n",
       "3       14      5262           4479            7908  97637.225  20200705.0   \n",
       "4       14      8234           4602           11000  97937.399  20200705.0   \n",
       "\n",
       "      timestamp  watch_ratio          feat  \n",
       "0  1.593898e+09     0.722103  [11, 28, 19]  \n",
       "1  1.593898e+09     1.907377          [28]  \n",
       "2  1.593898e+09     2.063311           [9]  \n",
       "3  1.593898e+09     0.566388          [25]  \n",
       "4  1.593899e+09     0.418364           [6]  "
      ]
     },
     "metadata": {},
     "output_type": "display_data"
    }
   ],
   "source": [
    "small_matrix_merged = (\n",
    "    small_matrix\n",
    "    .merge(item_categories, on=\"video_id\", how=\"left\")\n",
    "    # .merge(social_network, on=\"user_id\", how=\"left\")\n",
    ")\n",
    "display(small_matrix_merged.head())"
   ]
  },
  {
   "cell_type": "code",
   "execution_count": 12,
   "metadata": {},
   "outputs": [],
   "source": [
    "small_matrix_merged = list_to_cols(small_matrix_merged, \"feat\")"
   ]
  },
  {
   "cell_type": "code",
   "execution_count": 13,
   "metadata": {},
   "outputs": [
    {
     "name": "stderr",
     "output_type": "stream",
     "text": [
      "/var/folders/0f/xqjk7pr56mjd12xvy1w435_40000gn/T/ipykernel_6018/226922022.py:9: FutureWarning: Downcasting object dtype arrays on .fillna, .ffill, .bfill is deprecated and will change in a future version. Call result.infer_objects(copy=False) instead. To opt-in to the future behavior, set `pd.set_option('future.no_silent_downcasting', True)`\n",
      "  small_matrix_merged[col] = small_matrix_merged[col].fillna(small_matrix_merged[col].median()) # median() or mode()[0]\n"
     ]
    }
   ],
   "source": [
    "# Data Imputation\n",
    "\n",
    "# KNN Imputation\n",
    "# imputer = KNNImputer(n_neighbors=20)\n",
    "# df_filled = imputer.fit_transform(small_matrix)\n",
    "\n",
    "# Median/Mean/Mode Imputation\n",
    "for col in small_matrix_merged.columns:\n",
    "    small_matrix_merged[col] = small_matrix_merged[col].fillna(small_matrix_merged[col].median()) # median() or mode()[0]"
   ]
  }
 ],
 "metadata": {
  "kernelspec": {
   "display_name": "orcs42",
   "language": "python",
   "name": "python3"
  },
  "language_info": {
   "codemirror_mode": {
    "name": "ipython",
    "version": 3
   },
   "file_extension": ".py",
   "mimetype": "text/x-python",
   "name": "python",
   "nbconvert_exporter": "python",
   "pygments_lexer": "ipython3",
   "version": "3.11.10"
  }
 },
 "nbformat": 4,
 "nbformat_minor": 2
}
